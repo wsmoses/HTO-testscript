{
 "cells": [
  {
   "cell_type": "code",
   "execution_count": 2,
   "metadata": {},
   "outputs": [],
   "source": [
    "import numpy as np\n",
    "import pandas as pd\n",
    "import json"
   ]
  },
  {
   "cell_type": "code",
   "execution_count": 3,
   "metadata": {},
   "outputs": [],
   "source": [
    "alltypes = ['plain', 'hto', 'thinlto', 'fulllto', 'noheaders']\n",
    "\n",
    "def simplifyName(z):\n",
    "    z = z[z.rindex('/')+1:z.rindex('.')]\n",
    "    return z\n",
    "\n",
    "def create_pandas(res, test, trial):\n",
    "    compiles = []\n",
    "    names = []\n",
    "    links = []\n",
    "    execs = []\n",
    "    tests = []\n",
    "    trials = []\n",
    "    for x in res[\"tests\"]:\n",
    "        if \"metrics\" in x:\n",
    "            compiles.append(x[\"metrics\"][\"compile_time\"])\n",
    "            links.append(x[\"metrics\"][\"link_time\"])\n",
    "            execs.append(x[\"metrics\"][\"exec_time\"])\n",
    "            names.append(simplifyName(x[\"name\"]))\n",
    "            tests.append(test)\n",
    "            trials.append(trial)\n",
    "        else:\n",
    "            pass\n",
    "    idx = pd.MultiIndex.from_tuples(zip(names, tests, trials), names=['name', 'test', 'trial'])\n",
    "    #df = pd.DataFrame(index=idx, data={'compile':compiles, 'link':links, 'exec':execs})\n",
    "    df = pd.DataFrame(index=idx, data={'name':names, 'compile':compiles, 'link':links, 'exec':execs, 'test':tests, 'trial':trials})\n",
    "    return df\n",
    "\n",
    "def getData(test):\n",
    "    dfs = []\n",
    "    for i in range(1, 11):\n",
    "        with open('results-v1/' + test + str(i) + '.json') as json_file:\n",
    "            res = json.load(json_file)\n",
    "        res\n",
    "        dfs.append(create_pandas(res, test, i))\n",
    "    return pd.concat(dfs)\n",
    "\n",
    "def getAllData():\n",
    "    dfs = []\n",
    "    for test in alltypes:\n",
    "        dfs.append(getData(test))\n",
    "    return pd.concat(dfs)\n",
    "alldata = getAllData()"
   ]
  },
  {
   "cell_type": "code",
   "execution_count": 4,
   "metadata": {},
   "outputs": [],
   "source": [
    "def plainMean(alldata, test):\n",
    "    return alldata[(alldata['name']==test) & (alldata['test']=='plain')]['exec'].mean()"
   ]
  },
  {
   "cell_type": "code",
   "execution_count": 5,
   "metadata": {},
   "outputs": [
    {
     "name": "stdout",
     "output_type": "stream",
     "text": [
      "0.6952799999999999\n",
      "28.613800000000005\n",
      "2.7743499999999996\n",
      "1.6287699999999998\n",
      "1.57613\n",
      "1.9033200000000001\n",
      "1.1878099999999998\n",
      "0.7867599999999999\n",
      "0.27938\n",
      "2.85199\n",
      "2.1646900000000002\n",
      "0.70792\n",
      "4.52896\n",
      "5.29107\n",
      "2.1767000000000003\n",
      "13.846950000000001\n",
      "0.96097\n",
      "0.66523\n",
      "0.41193\n",
      "3.21783\n",
      "2.13769\n",
      "1.7851\n",
      "2.9703700000000004\n",
      "0.11538999999999999\n",
      "0.57532\n",
      "4.114269999999999\n",
      "2.7596700000000003\n",
      "31.661780000000004\n",
      "2.42799\n",
      "0.5308400000000001\n",
      "2.04499\n",
      "0.17114\n",
      "0.8996999999999999\n",
      "2.5520499999999995\n",
      "2.7893999999999997\n",
      "12.160309999999999\n",
      "2.1446\n",
      "2.73307\n",
      "0.18497999999999998\n",
      "0.29331\n",
      "5.100280000000001\n",
      "0.18705\n",
      "7.08669\n",
      "1.0560100000000001\n",
      "0.29019\n",
      "1.17679\n",
      "3.5853499999999996\n",
      "3.09135\n",
      "1.59736\n",
      "3.2704999999999997\n",
      "5.24059\n",
      "2.21232\n",
      "2.76111\n",
      "0.6592300000000002\n",
      "0.71818\n",
      "1.5558100000000001\n",
      "2.1452999999999998\n",
      "1.228\n",
      "2.9955600000000002\n",
      "0.10621999999999998\n",
      "2.92115\n",
      "3.5185700000000004\n",
      "0.57261\n",
      "2.25047\n",
      "0.4514699999999999\n",
      "0.11383000000000001\n",
      "0.7126399999999999\n",
      "2.5834\n",
      "3.24125\n",
      "0.12406999999999999\n",
      "0.33150999999999997\n",
      "0.2097\n",
      "0.22081999999999996\n",
      "5.86557\n",
      "1.47497\n",
      "1.8975100000000005\n",
      "2.77283\n",
      "2.68959\n",
      "3.0065999999999997\n",
      "3.41843\n",
      "0.83443\n",
      "0.37338\n",
      "0.58678\n",
      "2.4960999999999998\n",
      "1.7831199999999998\n",
      "1.2101099999999998\n",
      "1.64394\n",
      "1.5975300000000001\n",
      "0.81117\n",
      "0.11776000000000002\n",
      "0.22578\n",
      "1.36825\n",
      "1.69799\n",
      "3.03904\n",
      "0.86989\n",
      "0.36019\n",
      "2.98954\n",
      "0.12561000000000003\n",
      "1.3941199999999998\n",
      "2.1461\n",
      "3.3204400000000005\n"
     ]
    }
   ],
   "source": [
    "htotests = list(z for z in set(alldata[alldata['test']=='hto']['name']) if plainMean(alldata, z) > 0.1)\n",
    "for h in htotests:\n",
    "    print(plainMean(alldata, h))"
   ]
  },
  {
   "cell_type": "code",
   "execution_count": 6,
   "metadata": {},
   "outputs": [
    {
     "name": "stderr",
     "output_type": "stream",
     "text": [
      "/Users/wmoses/anaconda3/lib/python3.7/site-packages/ipykernel_launcher.py:6: FutureWarning: 'name' is both an index level and a column label.\n",
      "Defaulting to column, but this will raise an ambiguity error in a future version\n",
      "  \n",
      "/Users/wmoses/anaconda3/lib/python3.7/site-packages/ipykernel_launcher.py:6: FutureWarning: 'test' is both an index level and a column label.\n",
      "Defaulting to column, but this will raise an ambiguity error in a future version\n",
      "  \n",
      "/Users/wmoses/anaconda3/lib/python3.7/site-packages/ipykernel_launcher.py:8: FutureWarning: 'name' is both an index level and a column label.\n",
      "Defaulting to column, but this will raise an ambiguity error in a future version\n",
      "  \n",
      "/Users/wmoses/anaconda3/lib/python3.7/site-packages/ipykernel_launcher.py:8: FutureWarning: 'test' is both an index level and a column label.\n",
      "Defaulting to column, but this will raise an ambiguity error in a future version\n",
      "  \n"
     ]
    },
    {
     "data": {
      "text/plain": [
       "name             test     \n",
       "7zip-benchmark   fulllto      6.41803\n",
       "                 noheaders    6.47277\n",
       "                 plain        6.46870\n",
       "                 thinlto      6.44512\n",
       "8b10b            fulllto      3.15031\n",
       "                 hto          3.54088\n",
       "                 noheaders    3.50086\n",
       "                 plain        3.51857\n",
       "                 thinlto      3.15288\n",
       "AMGmk            fulllto      5.29894\n",
       "                 hto          5.11437\n",
       "                 noheaders    5.10401\n",
       "                 plain        5.10028\n",
       "                 thinlto      5.19331\n",
       "CLAMR            fulllto      1.99131\n",
       "                 noheaders    1.98074\n",
       "                 plain        1.98242\n",
       "                 thinlto      1.98222\n",
       "CoMD             fulllto      1.40780\n",
       "                 hto          1.40208\n",
       "                 noheaders    1.40538\n",
       "                 plain        1.39412\n",
       "                 thinlto      1.41408\n",
       "ControlFlow-dbl  fulllto      2.95407\n",
       "                 hto          2.96656\n",
       "                 noheaders    2.99934\n",
       "                 plain        2.98954\n",
       "                 thinlto      2.99606\n",
       "ControlFlow-flt  fulllto      2.18986\n",
       "                 hto          2.17924\n",
       "                               ...   \n",
       "uudecode         fulllto      0.01602\n",
       "                 hto          0.05618\n",
       "                 noheaders    0.05598\n",
       "                 plain        0.05505\n",
       "                 thinlto      0.01597\n",
       "uuencode         fulllto      0.00882\n",
       "                 hto          0.00839\n",
       "                 noheaders    0.00850\n",
       "                 plain        0.00844\n",
       "                 thinlto      0.00847\n",
       "vcirc            fulllto      0.00078\n",
       "                 hto          0.00082\n",
       "                 noheaders    0.00083\n",
       "                 plain        0.00093\n",
       "                 thinlto      0.00075\n",
       "vor              fulllto      0.08462\n",
       "                 hto          0.08343\n",
       "                 noheaders    0.08494\n",
       "                 plain        0.08550\n",
       "                 thinlto      0.08601\n",
       "voronoi          fulllto      0.18317\n",
       "                 hto          0.18715\n",
       "                 noheaders    0.18058\n",
       "                 plain        0.18498\n",
       "                 thinlto      0.18470\n",
       "yacr2            fulllto      0.50755\n",
       "                 hto          0.44366\n",
       "                 noheaders    0.45235\n",
       "                 plain        0.45147\n",
       "                 thinlto      0.44773\n",
       "Name: exec, Length: 897, dtype: float64"
      ]
     },
     "execution_count": 6,
     "metadata": {},
     "output_type": "execute_result"
    }
   ],
   "source": [
    "d = alldata[alldata['name']==htotests[0]]\n",
    "\n",
    "def getCompileLink(x):\n",
    "    return x['compile'] + x['link']\n",
    "\n",
    "alldata.groupby(['name', 'test'])['compile'].mean() + alldata.groupby(['name', 'test'])['link'].mean()\n",
    "\n",
    "alldata.groupby(['name', 'test'])['exec'].mean()"
   ]
  },
  {
   "cell_type": "code",
   "execution_count": 7,
   "metadata": {},
   "outputs": [
    {
     "name": "stderr",
     "output_type": "stream",
     "text": [
      "/Users/wmoses/anaconda3/lib/python3.7/site-packages/ipykernel_launcher.py:1: FutureWarning: 'name' is both an index level and a column label.\n",
      "Defaulting to column, but this will raise an ambiguity error in a future version\n",
      "  \"\"\"Entry point for launching an IPython kernel.\n",
      "/Users/wmoses/anaconda3/lib/python3.7/site-packages/ipykernel_launcher.py:1: FutureWarning: 'test' is both an index level and a column label.\n",
      "Defaulting to column, but this will raise an ambiguity error in a future version\n",
      "  \"\"\"Entry point for launching an IPython kernel.\n"
     ]
    },
    {
     "data": {
      "text/plain": [
       "<matplotlib.axes._subplots.AxesSubplot at 0x7fdc1140f780>"
      ]
     },
     "execution_count": 7,
     "metadata": {},
     "output_type": "execute_result"
    },
    {
     "data": {
      "image/png": "[encoded data removed]",
      "text/plain": [
       "<Figure size 432x288 with 1 Axes>"
      ]
     },
     "metadata": {
      "needs_background": "light"
     },
     "output_type": "display_data"
    }
   ],
   "source": [
    "buildtimes = alldata.groupby(['name', 'test'])['compile'].mean() + alldata.groupby(['name', 'test'])['link'].mean()\n",
    "\n",
    "\n",
    "def toGrid(bt, types=alltypes, tests=htotests, normalize=None):\n",
    "    rec = [[] for d in types]\n",
    "    for test in tests:\n",
    "        for i, d in enumerate(types):\n",
    "            dat = bt[test, d]\n",
    "            if normalize is not None:\n",
    "                dat /= bt[test, normalize]\n",
    "            rec[i].append(dat)\n",
    "    return pd.DataFrame({a:b for a, b in zip(types, rec)}, index=tests)\n",
    "\n",
    "toGrid(buildtimes, types=['thinlto', 'hto'], tests=htotests[:], normalize='noheaders').plot.bar(rot=90)"
   ]
  },
  {
   "cell_type": "code",
   "execution_count": 103,
   "metadata": {},
   "outputs": [],
   "source": [
    "toGrid(buildtimes, types=['fulllto','thinlto', 'hto'], tests=htotests[:], normalize='noheaders').to_csv('buildtime.csv')"
   ]
  },
  {
   "cell_type": "code",
   "execution_count": 9,
   "metadata": {},
   "outputs": [],
   "source": [
    "tg = toGrid(buildtimes, types=['fulllto','thinlto', 'hto'], tests=htotests[:], normalize='noheaders')"
   ]
  },
  {
   "cell_type": "code",
   "execution_count": 10,
   "metadata": {},
   "outputs": [
    {
     "data": {
      "text/plain": [
       "fulllto    1.380575\n",
       "thinlto    1.389967\n",
       "hto        1.194445\n",
       "dtype: float64"
      ]
     },
     "execution_count": 10,
     "metadata": {},
     "output_type": "execute_result"
    }
   ],
   "source": [
    "tg.mean()"
   ]
  },
  {
   "cell_type": "code",
   "execution_count": 147,
   "metadata": {},
   "outputs": [
    {
     "name": "stderr",
     "output_type": "stream",
     "text": [
      "/Users/wmoses/anaconda3/lib/python3.7/site-packages/ipykernel_launcher.py:1: FutureWarning: 'name' is both an index level and a column label.\n",
      "Defaulting to column, but this will raise an ambiguity error in a future version\n",
      "  \"\"\"Entry point for launching an IPython kernel.\n",
      "/Users/wmoses/anaconda3/lib/python3.7/site-packages/ipykernel_launcher.py:1: FutureWarning: 'test' is both an index level and a column label.\n",
      "Defaulting to column, but this will raise an ambiguity error in a future version\n",
      "  \"\"\"Entry point for launching an IPython kernel.\n"
     ]
    },
    {
     "data": {
      "text/plain": [
       "fulllto    0.979525\n",
       "thinlto    0.970693\n",
       "hto        0.988871\n",
       "dtype: float64"
      ]
     },
     "execution_count": 147,
     "metadata": {},
     "output_type": "execute_result"
    }
   ],
   "source": [
    "execg = toGrid(alldata.groupby(['name', 'test'])['exec'].mean(),types=['fulllto','thinlto', 'hto'], tests=htotests[:], normalize='noheaders')\n",
    "execg.mean()"
   ]
  },
  {
   "cell_type": "code",
   "execution_count": 148,
   "metadata": {},
   "outputs": [
    {
     "data": {
      "text/plain": [
       "(LinearDependence-flt       0.999145\n",
       " spiff                      0.998577\n",
       " enc-md5                    0.999853\n",
       " Symbolics-dbl              1.009592\n",
       " ocean                      0.997783\n",
       " ControlFlow-flt            1.002115\n",
       " bmm                        0.986432\n",
       " StatementReordering-flt    0.997801\n",
       " mason                      0.994244\n",
       " 8b10b                      1.011431\n",
       " Symbolics-flt              0.925696\n",
       " iotest                     1.042740\n",
       " siod                       0.985806\n",
       " HACCKernels                0.996073\n",
       " consumer-lame              0.998573\n",
       " SIBsim4                    0.993901\n",
       " health                     1.019673\n",
       " NodeSplitting-flt          0.996217\n",
       " scimark2                   0.996818\n",
       " NodeSplitting-dbl          0.996087\n",
       " ecbdes                     0.999360\n",
       " miniFE                     1.001158\n",
       " SimpleMOC                  0.995034\n",
       " miniGMG                    0.986875\n",
       " Recurrences-flt            0.995286\n",
       " power                      0.985281\n",
       " CrossingThresholds-flt     0.946314\n",
       " espresso                   1.000713\n",
       " Equivalencing-flt          1.010954\n",
       " CoMD                       0.997652\n",
       "                              ...   \n",
       " telecomm-CRC32             0.970773\n",
       " hotspot                    0.999303\n",
       " ControlFlow-dbl            0.989071\n",
       " srad                       0.993666\n",
       " pairlocalalign             0.989300\n",
       " enc-3des                   0.998959\n",
       " sim                        0.996730\n",
       " InductionVariable-flt      0.998574\n",
       " Searching-flt              0.998696\n",
       " ks                         1.001318\n",
       " Reductions-flt             0.897182\n",
       " aha                        0.953959\n",
       " enc-rc4                    0.982670\n",
       " fhourstones3.1             0.995159\n",
       " bc                         1.001841\n",
       " paq8p                      0.994878\n",
       " beamformer                 0.983547\n",
       " five11                     0.995575\n",
       " primes                     0.996587\n",
       " InductionVariable-dbl      0.990262\n",
       " Reductions-dbl             0.822923\n",
       " Expansion-dbl              1.004476\n",
       " ControlLoops-flt           0.779010\n",
       " ControlLoops-dbl           0.825604\n",
       " netbench-url               0.999126\n",
       " bisort                     0.986271\n",
       " anagram                    0.993054\n",
       " Recurrences-dbl            0.993195\n",
       " llu                        1.003384\n",
       " minisat                    0.993072\n",
       " Name: hto, Length: 101, dtype: float64,\n",
       " LinearDependence-flt       1.019659\n",
       " spiff                      1.156334\n",
       " enc-md5                    1.075494\n",
       " Symbolics-dbl              1.055621\n",
       " ocean                      1.683258\n",
       " ControlFlow-flt            1.060187\n",
       " bmm                        1.149665\n",
       " StatementReordering-flt    1.028331\n",
       " mason                      1.092920\n",
       " 8b10b                      1.211321\n",
       " Symbolics-flt              1.078749\n",
       " iotest                     1.120721\n",
       " siod                       1.239539\n",
       " HACCKernels                1.037221\n",
       " consumer-lame              1.355801\n",
       " SIBsim4                    1.142225\n",
       " health                     1.285471\n",
       " NodeSplitting-flt          1.220786\n",
       " scimark2                   1.154293\n",
       " NodeSplitting-dbl          1.027833\n",
       " ecbdes                     1.102809\n",
       " miniFE                     1.339353\n",
       " SimpleMOC                  1.160950\n",
       " miniGMG                    1.272760\n",
       " Recurrences-flt            1.000286\n",
       " power                      1.093769\n",
       " CrossingThresholds-flt     1.508081\n",
       " espresso                   1.307448\n",
       " Equivalencing-flt          1.016862\n",
       " CoMD                       1.153433\n",
       "                              ...   \n",
       " telecomm-CRC32             1.253275\n",
       " hotspot                    1.064798\n",
       " ControlFlow-dbl            1.107688\n",
       " srad                       1.000757\n",
       " pairlocalalign             1.170410\n",
       " enc-3des                   1.375659\n",
       " sim                        1.162743\n",
       " InductionVariable-flt      1.481019\n",
       " Searching-flt              1.102204\n",
       " ks                         1.339332\n",
       " Reductions-flt             1.142397\n",
       " aha                        1.160615\n",
       " enc-rc4                    1.117812\n",
       " fhourstones3.1             1.639736\n",
       " bc                         1.187357\n",
       " paq8p                      1.329528\n",
       " beamformer                 1.284199\n",
       " five11                     1.236975\n",
       " primes                     1.099761\n",
       " InductionVariable-dbl      1.241067\n",
       " Reductions-dbl             1.125698\n",
       " Expansion-dbl              1.131683\n",
       " ControlLoops-flt           1.150758\n",
       " ControlLoops-dbl           1.074304\n",
       " netbench-url               1.197307\n",
       " bisort                     1.138078\n",
       " anagram                    1.118142\n",
       " Recurrences-dbl            1.531173\n",
       " llu                        1.802097\n",
       " minisat                    1.048298\n",
       " Name: hto, Length: 101, dtype: float64)"
      ]
     },
     "execution_count": 148,
     "metadata": {},
     "output_type": "execute_result"
    }
   ],
   "source": [
    "execg['hto'], tg['hto']"
   ]
  },
  {
   "cell_type": "code",
   "execution_count": 149,
   "metadata": {},
   "outputs": [
    {
     "data": {
      "text/plain": [
       "<matplotlib.axes._subplots.AxesSubplot at 0x7ff021337860>"
      ]
     },
     "execution_count": 149,
     "metadata": {},
     "output_type": "execute_result"
    },
    {
     "data": {
      "image/png": "[encoded data removed]",
      "text/plain": [
       "<Figure size 432x288 with 1 Axes>"
      ]
     },
     "metadata": {
      "needs_background": "light"
     },
     "output_type": "display_data"
    }
   ],
   "source": [
    "execg.plot.scatter('thinlto', 'hto')"
   ]
  },
  {
   "cell_type": "code",
   "execution_count": 150,
   "metadata": {},
   "outputs": [
    {
     "data": {
      "text/plain": [
       "(LinearDependence-flt       0.990496\n",
       " spiff                      0.979947\n",
       " enc-md5                    1.006614\n",
       " Symbolics-dbl              0.991059\n",
       " ocean                      0.989820\n",
       " ControlFlow-flt            1.007988\n",
       " bmm                        0.984182\n",
       " StatementReordering-flt    1.004275\n",
       " mason                      0.995901\n",
       " 8b10b                      0.900602\n",
       " Symbolics-flt              0.911063\n",
       " iotest                     0.439334\n",
       " siod                       1.001890\n",
       " HACCKernels                0.996134\n",
       " consumer-lame              0.988507\n",
       " SIBsim4                    1.005275\n",
       " health                     1.001300\n",
       " NodeSplitting-flt          0.999716\n",
       " scimark2                   0.765046\n",
       " NodeSplitting-dbl          0.996967\n",
       " ecbdes                     1.010329\n",
       " miniFE                     0.997449\n",
       " SimpleMOC                  1.022250\n",
       " miniGMG                    0.982800\n",
       " Recurrences-flt            1.001009\n",
       " power                      1.001769\n",
       " CrossingThresholds-flt     0.949413\n",
       " espresso                   0.976287\n",
       " Equivalencing-flt          1.014509\n",
       " CoMD                       1.006190\n",
       "                              ...   \n",
       " telecomm-CRC32             1.010535\n",
       " hotspot                    1.002116\n",
       " ControlFlow-dbl            0.998906\n",
       " srad                       0.991398\n",
       " pairlocalalign             0.971222\n",
       " enc-3des                   1.006608\n",
       " sim                        0.966525\n",
       " InductionVariable-flt      1.006201\n",
       " Searching-flt              1.004475\n",
       " ks                         1.381177\n",
       " Reductions-flt             0.901983\n",
       " aha                        0.807984\n",
       " enc-rc4                    0.988550\n",
       " fhourstones3.1             1.005032\n",
       " bc                         0.955098\n",
       " paq8p                      0.997560\n",
       " beamformer                 0.979302\n",
       " five11                     1.013860\n",
       " primes                     1.001951\n",
       " InductionVariable-dbl      0.994427\n",
       " Reductions-dbl             0.829360\n",
       " Expansion-dbl              1.005104\n",
       " ControlLoops-flt           0.786171\n",
       " ControlLoops-dbl           0.829114\n",
       " netbench-url               1.056295\n",
       " bisort                     0.984335\n",
       " anagram                    0.958360\n",
       " Recurrences-dbl            0.999623\n",
       " llu                        1.000222\n",
       " minisat                    0.983451\n",
       " Name: thinlto, Length: 101, dtype: float64,\n",
       " LinearDependence-flt       0.904938\n",
       " spiff                      1.705151\n",
       " enc-md5                    1.277584\n",
       " Symbolics-dbl              1.112004\n",
       " ocean                      2.015837\n",
       " ControlFlow-flt            1.125662\n",
       " bmm                        1.348474\n",
       " StatementReordering-flt    1.105806\n",
       " mason                      1.189633\n",
       " 8b10b                      1.461132\n",
       " Symbolics-flt              1.005847\n",
       " iotest                     2.033033\n",
       " siod                       1.820622\n",
       " HACCKernels                0.878978\n",
       " consumer-lame              1.682933\n",
       " SIBsim4                    1.631956\n",
       " health                     1.749318\n",
       " NodeSplitting-flt          1.183549\n",
       " scimark2                   2.573332\n",
       " NodeSplitting-dbl          1.101744\n",
       " ecbdes                     0.956964\n",
       " miniFE                     1.821528\n",
       " SimpleMOC                  1.409340\n",
       " miniGMG                    1.202067\n",
       " Recurrences-flt            1.032761\n",
       " power                      1.229994\n",
       " CrossingThresholds-flt     1.418332\n",
       " espresso                   2.407288\n",
       " Equivalencing-flt          1.087208\n",
       " CoMD                       1.516044\n",
       "                              ...   \n",
       " telecomm-CRC32             1.183406\n",
       " hotspot                    1.417739\n",
       " ControlFlow-dbl            1.111697\n",
       " srad                       1.449659\n",
       " pairlocalalign             1.040000\n",
       " enc-3des                   1.286339\n",
       " sim                        1.559087\n",
       " InductionVariable-flt      1.348881\n",
       " Searching-flt              1.072882\n",
       " ks                         2.129908\n",
       " Reductions-flt             1.199647\n",
       " aha                        1.417770\n",
       " enc-rc4                    1.234923\n",
       " fhourstones3.1             2.411077\n",
       " bc                         1.842346\n",
       " paq8p                      1.974342\n",
       " beamformer                 1.775220\n",
       " five11                     1.150420\n",
       " primes                     1.347965\n",
       " InductionVariable-dbl      0.837702\n",
       " Reductions-dbl             1.089664\n",
       " Expansion-dbl              1.114276\n",
       " ControlLoops-flt           1.070309\n",
       " ControlLoops-dbl           1.116809\n",
       " netbench-url               1.308264\n",
       " bisort                     1.401460\n",
       " anagram                    1.895995\n",
       " Recurrences-dbl            1.418806\n",
       " llu                        2.032765\n",
       " minisat                    1.578518\n",
       " Name: thinlto, Length: 101, dtype: float64)"
      ]
     },
     "execution_count": 150,
     "metadata": {},
     "output_type": "execute_result"
    }
   ],
   "source": [
    "execg['thinlto'], tg['thinlto']"
   ]
  },
  {
   "cell_type": "code",
   "execution_count": null,
   "metadata": {},
   "outputs": [],
   "source": []
  }
 ],
 "metadata": {
  "kernelspec": {
   "display_name": "Python 3",
   "language": "python",
   "name": "python3"
  },
  "language_info": {
   "codemirror_mode": {
    "name": "ipython",
    "version": 3
   },
   "file_extension": ".py",
   "mimetype": "text/x-python",
   "name": "python",
   "nbconvert_exporter": "python",
   "pygments_lexer": "ipython3",
   "version": "3.7.1"
  }
 },
 "nbformat": 4,
 "nbformat_minor": 4
}
